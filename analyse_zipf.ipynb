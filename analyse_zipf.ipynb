{
 "cells": [
  {
   "cell_type": "code",
   "execution_count": null,
   "id": "initial_id",
   "metadata": {
    "collapsed": true
   },
   "outputs": [],
   "source": [
    "import re\n",
    "from collections import Counter\n",
    "import powerlaw\n",
    "import matplotlib.pyplot as plt\n",
    "\n",
    "# ======= Step 1: Carica e tokenizza =======\n",
    "with open(\"generated/merged_horror_stories.txt\", \"r\", encoding=\"utf-8\") as f:\n",
    "    text = f.read().lower()\n",
    "\n",
    "# Tokenizzazione molto semplice: solo parole con lettere\n",
    "words = re.findall(r\"\\b[a-z]+\\b\", text)\n",
    "\n",
    "# Frequenza delle parole\n",
    "word_counts = Counter(words)\n",
    "frequencies = list(word_counts.values())\n",
    "\n",
    "print(word_counts)\n",
    "print(sorted(frequencies, reverse = True))"
   ]
  },
  {
   "metadata": {},
   "cell_type": "code",
   "outputs": [],
   "execution_count": null,
   "source": [
    "# ======= Step 2: Analisi con Powerlaw =======\n",
    "results = powerlaw.Fit(frequencies, discrete=True)\n",
    "\n",
    "# Stampa i parametri stimati\n",
    "print(f\"α (alpha): {results.alpha:.4f}\")\n",
    "print(f\"xmin: {results.xmin}\")\n",
    "\n",
    "# ======= Step 3: Plot =======\n",
    "fig = plt.figure()\n",
    "results.plot_ccdf(color='b', label='Empirical')\n",
    "results.power_law.plot_ccdf(color='r', linestyle='--', label='Power law fit')\n",
    "plt.xlabel('Word frequency')\n",
    "plt.ylabel('CCDF')\n",
    "plt.title('Zipf Law Fit to Word Frequencies')\n",
    "plt.legend()\n",
    "plt.show()"
   ],
   "id": "8533c6229853ebde"
  }
 ],
 "metadata": {
  "kernelspec": {
   "display_name": "Python 3",
   "language": "python",
   "name": "python3"
  },
  "language_info": {
   "codemirror_mode": {
    "name": "ipython",
    "version": 2
   },
   "file_extension": ".py",
   "mimetype": "text/x-python",
   "name": "python",
   "nbconvert_exporter": "python",
   "pygments_lexer": "ipython2",
   "version": "2.7.6"
  }
 },
 "nbformat": 4,
 "nbformat_minor": 5
}
